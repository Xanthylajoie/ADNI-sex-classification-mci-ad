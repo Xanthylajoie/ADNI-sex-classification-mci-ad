{
 "cells": [
  {
   "cell_type": "code",
   "execution_count": 7,
   "id": "856500b1-26e7-4b81-8e58-d95a3f2c68e4",
   "metadata": {
    "tags": []
   },
   "outputs": [],
   "source": [
    "import pandas as pd\n",
    "from datetime import datetime\n",
    "import numpy as np"
   ]
  },
  {
   "cell_type": "code",
   "execution_count": 13,
   "id": "c48f0315-3f53-4a3c-88a6-9c80fe0617f4",
   "metadata": {
    "tags": []
   },
   "outputs": [],
   "source": [
    "df = pd.read_csv(\"/home/xlajoie/Downloads/MCI-AD data.csv\")"
   ]
  },
  {
   "cell_type": "code",
   "execution_count": null,
   "id": "43202bdf-a02e-4a20-8117-b5b6b46bb6e0",
   "metadata": {},
   "outputs": [],
   "source": []
  },
  {
   "cell_type": "code",
   "execution_count": 15,
   "id": "cd28755f-5226-4a93-b2b6-0549c5957a37",
   "metadata": {
    "tags": []
   },
   "outputs": [
    {
     "name": "stdout",
     "output_type": "stream",
     "text": [
      "✅ Average time to AD conversion (in months): 31.68\n",
      "✅ Average total follow-up time (in months): 53.47\n"
     ]
    }
   ],
   "source": [
    "import pandas as pd\n",
    "import numpy as np\n",
    "\n",
    "# Your DataFrame is assumed to be already loaded as `df`\n",
    "# Only keep relevant columns\n",
    "df = df[['RID', 'Diagnosis', 'VISCODE2']].copy()\n",
    "\n",
    "# Remove rows with missing VISCODE or Diagnosis\n",
    "df = df[df['VISCODE2'].notna() & df['Diagnosis'].notna()]\n",
    "\n",
    "# Convert VISCODE to number of months\n",
    "def viscode_to_months(viscode):\n",
    "    if viscode == 'bl':\n",
    "        return 0\n",
    "    elif viscode.startswith('m') and viscode[1:].isdigit():\n",
    "        return int(viscode[1:])\n",
    "    else:\n",
    "        return np.nan\n",
    "\n",
    "df['months'] = df['VISCODE2'].apply(viscode_to_months)\n",
    "\n",
    "# Group by subject\n",
    "conversion_months = []\n",
    "followup_months = []\n",
    "\n",
    "for rid, group in df.groupby('RID'):\n",
    "    group = group.sort_values('months')\n",
    "\n",
    "    # Get baseline month (should always be 0 if 'bl' is present)\n",
    "    baseline_month = group['months'].min()\n",
    "\n",
    "    # Time to conversion (first Diagnosis == 3)\n",
    "    conversion = group[group['Diagnosis'] == 3]\n",
    "    if not conversion.empty:\n",
    "        first_conversion_month = conversion['months'].iloc[0]\n",
    "        months_to_convert = first_conversion_month - baseline_month\n",
    "        conversion_months.append(months_to_convert)\n",
    "\n",
    "    # Total follow-up (last visit - baseline)\n",
    "    last_month = group['months'].max()\n",
    "    total_followup = last_month - baseline_month\n",
    "    followup_months.append(total_followup)\n",
    "\n",
    "# Summary statistics\n",
    "print(f\"✅ Average time to AD conversion (in months): {np.mean(conversion_months):.2f}\")\n",
    "print(f\"✅ Average total follow-up time (in months): {np.mean(followup_months):.2f}\")\n",
    "\n"
   ]
  },
  {
   "cell_type": "code",
   "execution_count": null,
   "id": "8b2bf16a-213d-42af-b319-7ac3cc8b1d07",
   "metadata": {
    "tags": []
   },
   "outputs": [],
   "source": [
    "\n"
   ]
  },
  {
   "cell_type": "code",
   "execution_count": null,
   "id": "e97d0bc6-bfc7-4e0b-9a58-8fcda2c01038",
   "metadata": {},
   "outputs": [],
   "source": []
  }
 ],
 "metadata": {
  "kernelspec": {
   "display_name": "Python 3 (ipykernel)",
   "language": "python",
   "name": "python3"
  },
  "language_info": {
   "codemirror_mode": {
    "name": "ipython",
    "version": 3
   },
   "file_extension": ".py",
   "mimetype": "text/x-python",
   "name": "python",
   "nbconvert_exporter": "python",
   "pygments_lexer": "ipython3",
   "version": "3.8.10"
  }
 },
 "nbformat": 4,
 "nbformat_minor": 5
}
